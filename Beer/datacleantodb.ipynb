{
 "cells": [
  {
   "cell_type": "code",
   "execution_count": 1,
   "metadata": {},
   "outputs": [],
   "source": [
    "from pandas.io.json import json_normalize\n",
    "import pandas as pd\n",
    "import json\n",
    "import numpy as np\n",
    "import pandas.io.json as pd_json\n",
    "from sqlalchemy import create_engine\n"
   ]
  },
  {
   "cell_type": "code",
   "execution_count": 2,
   "metadata": {},
   "outputs": [],
   "source": [
    "jsonfile = pd.read_json(\"Resources/mergedjson.json\")\n",
    "jsonfile\n",
    "\n",
    "modifiedjson = jsonfile.drop(['target_fg','target_og','contributed_by','boil_volume', 'method', 'volume'], axis = 1)"
   ]
  },
  {
   "cell_type": "code",
   "execution_count": 3,
   "metadata": {},
   "outputs": [],
   "source": [
    "#function to scale srm values based on scale\n",
    "#https://www.twobeerdudes.com/beer/srm\n",
    "def srmCat(s):\n",
    "    if s['srm'] >= 1 and s['srm'] < 3:\n",
    "        return 'Pale Lager, Pilsner, Witbier, Berliner Weisse'\n",
    "    elif 3 >= s['srm'] < 4:\n",
    "        return 'Straw'\n",
    "    elif 4 >= s['srm'] < 6:\n",
    "        return 'Pale Gold'\n",
    "    elif 6 >= s['srm'] < 8:\n",
    "        return 'Deep Gold'\n",
    "    elif 8 >= s['srm'] < 10:\n",
    "        return 'Pale Amber'\n",
    "    elif 10 >= s['srm'] < 13:\n",
    "        return 'Medium Amber'\n",
    "    elif 13 >= s['srm'] < 17:\n",
    "        return 'Deep Amber'\n",
    "    elif 17 >= s['srm'] < 20:\n",
    "        return 'Amber Brown'\n",
    "    elif 20 >= s['srm'] < 24:\n",
    "        return 'Brown'\n",
    "    elif 24 >= s['srm'] < 35:\n",
    "        return 'Ruby Brown'\n",
    "    elif 35 >= s['srm'] < 40:\n",
    "        return 'Deep Brown'\n",
    "    elif s['srm'] >= 40:\n",
    "        return 'Black'\n",
    "    else:\n",
    "        return 'Undefined'\n",
    "    \n",
    "modifiedjson['srm_category'] = modifiedjson.apply(srmCat, axis=1)"
   ]
  },
  {
   "cell_type": "code",
   "execution_count": 4,
   "metadata": {},
   "outputs": [],
   "source": [
    "#function to scale ibu into 3 categories \n",
    "def ibuCat(i):\n",
    "    if i['ibu'] >= 0 and i['ibu'] < 25:\n",
    "        return 'Low'\n",
    "    elif 25 >= i['ibu'] < 38:\n",
    "        return 'Medium'\n",
    "    elif i['ibu'] >=40:\n",
    "        return 'High'\n",
    "    else:\n",
    "        return 'Undefined'\n",
    "    \n",
    "modifiedjson['ibu_category'] = modifiedjson.apply(ibuCat, axis =1)"
   ]
  },
  {
   "cell_type": "code",
   "execution_count": 5,
   "metadata": {},
   "outputs": [],
   "source": [
    "#function to scale abv into 3 categories \n",
    "def abvCat(a):\n",
    "    if a['abv'] >= 0 and a['abv'] < 9:\n",
    "        return 'Low'\n",
    "    elif 9 >= a['abv'] < 16:\n",
    "        return 'Medium'\n",
    "    elif a['abv'] >=16:\n",
    "        return 'High'\n",
    "    else:\n",
    "        return 'Undefined'\n",
    "\n",
    "modifiedjson['abv_category'] = modifiedjson.apply(abvCat, axis =1)    "
   ]
  },
  {
   "cell_type": "code",
   "execution_count": 6,
   "metadata": {},
   "outputs": [],
   "source": [
    "#70-82\n",
    "def attenCat(a):\n",
    "    if a['attenuation_level'] >=0.0 and a['attenuation_level'] < 70.0:\n",
    "        return 'Low'\n",
    "    elif a['attenuation_level'] >= 70.0 and a['attenuation_level'] < 82.0:\n",
    "        return 'Medium'\n",
    "    elif a['attenuation_level'] >= 82.0:\n",
    "        return 'High'\n",
    "    else:\n",
    "        'Undefined'\n",
    "        \n",
    "modifiedjson['attenuation_category'] = modifiedjson.apply(attenCat, axis =1)    "
   ]
  },
  {
   "cell_type": "code",
   "execution_count": 7,
   "metadata": {},
   "outputs": [],
   "source": [
    "beerdata = modifiedjson[['id','name','ibu','ibu_category','srm','srm_category','abv','abv_category', 'ebc','attenuation_level','attenuation_category','description',\n",
    "                        'image_url','ph', 'tagline','brewers_tips']].set_index('id')\n"
   ]
  },
  {
   "cell_type": "code",
   "execution_count": 8,
   "metadata": {},
   "outputs": [],
   "source": [
    "with open('Resources/mergedjson.json', encoding='utf8') as data_file:\n",
    "    data = json.load(data_file)\n",
    "\n",
    "maltdf = json_normalize(data, meta = ['id'], record_path=['ingredients',['malt']],errors='ignore')\n",
    "maltdf.drop(columns=['amount'])\n",
    "\n",
    "maltdf = maltdf.groupby(maltdf['id']).agg(','.join)\n",
    "maltdf = maltdf.rename(columns={'name': 'malts_name'})\n",
    "maltdf\n",
    "\n",
    "hopsdf = json_normalize(data, meta = ['id'], record_path =['ingredients', ['hops']], errors = 'ignore')\n",
    "hopsdf.drop(columns=['amount'])\n",
    "hopsdf = hopsdf.groupby(hopsdf['id']).agg(','.join)\n",
    "hopsdf = hopsdf.rename(columns={'add':'hops_add', 'attribute':'hops_attribute', 'name': 'hops_name'})\n",
    "\n",
    "fooddf = json_normalize(data, meta =['id'], record_path=['food_pairing'], errors = 'ignore')\n",
    "fooddf = fooddf.groupby(fooddf['id']).agg(','.join)\n",
    "fooddf = fooddf.rename(columns = {0:'food_pairing'})\n",
    "\n",
    "ingredf = maltdf.merge(hopsdf, how ='outer',left_index=True, right_index=True)\n",
    "ingredf = ingredf.merge(fooddf, how = 'outer', left_index=True, right_index=True)\n",
    "finaldata = beerdata.merge(ingredf, how= 'outer', left_index=True, right_index=True)\n",
    "\n",
    "finaldata.to_csv('finalbeerdata.csv')\n"
   ]
  },
  {
   "cell_type": "code",
   "execution_count": 9,
   "metadata": {},
   "outputs": [],
   "source": [
    "connection_string = \"db/beerdata.sqlite\"\n",
    "engine = create_engine(f'sqlite:///{connection_string}')\n",
    "finaldata.to_sql(name='finaldata', con=engine, if_exists='append', index=True)"
   ]
  },
  {
   "cell_type": "code",
   "execution_count": null,
   "metadata": {},
   "outputs": [],
   "source": []
  }
 ],
 "metadata": {
  "file_extension": ".py",
  "kernelspec": {
   "display_name": "Python 3",
   "language": "python",
   "name": "python3"
  },
  "language_info": {
   "codemirror_mode": {
    "name": "ipython",
    "version": 3
   },
   "file_extension": ".py",
   "mimetype": "text/x-python",
   "name": "python",
   "nbconvert_exporter": "python",
   "pygments_lexer": "ipython3",
   "version": "3.7.3"
  },
  "mimetype": "text/x-python",
  "name": "python",
  "npconvert_exporter": "python",
  "pygments_lexer": "ipython3",
  "version": 3
 },
 "nbformat": 4,
 "nbformat_minor": 2
}
